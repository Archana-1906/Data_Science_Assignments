{
 "cells": [
  {
   "cell_type": "code",
   "execution_count": 2,
   "id": "42a1e12c-4b0f-413a-a212-f3cad159ed7a",
   "metadata": {},
   "outputs": [],
   "source": [
    "import numpy as np\n",
    "import scipy.stats as st\n",
    "from scipy import stats\n"
   ]
  },
  {
   "cell_type": "code",
   "execution_count": 4,
   "id": "9ab644e3-d528-4f6c-adb2-64b997971013",
   "metadata": {},
   "outputs": [],
   "source": [
    "data=[1.13, 1.55, 1.43, 0.92, 1.25, 1.36, 1.32, 0.85, 1.07, 1.48, 1.20, 1.33, 1.18, 1.22, 1.29]\n"
   ]
  },
  {
   "cell_type": "code",
   "execution_count": 6,
   "id": "4bf3f04b-d6c4-415f-a22c-f9a4a9c660c6",
   "metadata": {},
   "outputs": [
    {
     "data": {
      "text/plain": [
       "(1.0901973384384906, 1.3871359948948425)"
      ]
     },
     "execution_count": 6,
     "metadata": {},
     "output_type": "execute_result"
    }
   ],
   "source": [
    "#Build 99% Confidence Interval Using Sample Standard Deviation\n",
    "\n",
    "stats.t.interval(0.99,df=len(data)-1,\n",
    "              loc=np.mean(data),\n",
    "              scale=st.sem(data))"
   ]
  },
  {
   "cell_type": "code",
   "execution_count": 8,
   "id": "30f1a32c-2bbf-48cb-8176-e3e294ef8000",
   "metadata": {},
   "outputs": [
    {
     "data": {
      "text/plain": [
       "(0.6432981197924997, 1.8340352135408335)"
      ]
     },
     "execution_count": 8,
     "metadata": {},
     "output_type": "execute_result"
    }
   ],
   "source": [
    "#Build 99% Confidence Interval Using Known Population Standard Deviation\n",
    "#S.D.=0.2\n",
    "stats.t.interval(0.99,df=len(data)-1,\n",
    "              loc=np.mean(data),\n",
    "              scale=0.2)"
   ]
  }
 ],
 "metadata": {
  "kernelspec": {
   "display_name": "Python 3 (ipykernel)",
   "language": "python",
   "name": "python3"
  },
  "language_info": {
   "codemirror_mode": {
    "name": "ipython",
    "version": 3
   },
   "file_extension": ".py",
   "mimetype": "text/x-python",
   "name": "python",
   "nbconvert_exporter": "python",
   "pygments_lexer": "ipython3",
   "version": "3.12.4"
  }
 },
 "nbformat": 4,
 "nbformat_minor": 5
}
