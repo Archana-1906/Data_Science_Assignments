{
 "cells": [
  {
   "cell_type": "code",
   "execution_count": 2,
   "id": "78b284d8-dd13-46c4-a90b-d2854fa7c4bb",
   "metadata": {},
   "outputs": [],
   "source": [
    "import pandas as pd"
   ]
  },
  {
   "cell_type": "code",
   "execution_count": 16,
   "id": "8555f75e-9c96-4ca1-8e91-3ccff11e453f",
   "metadata": {},
   "outputs": [
    {
     "name": "stdin",
     "output_type": "stream",
     "text": [
      "Enter a number:  34\n"
     ]
    },
    {
     "name": "stdout",
     "output_type": "stream",
     "text": [
      "34 is not a prime number\n"
     ]
    }
   ],
   "source": [
    "#Write a Python program that checks whether a given number is prime or not. A prime number is a natural number greater than \n",
    "#1 that has no positive divisors other than 1 and itself\n",
    "\n",
    "\n",
    "# To take input from the user\n",
    "num = int(input(\"Enter a number: \"))\n",
    "\n",
    "# define a flag variable\n",
    "flag = False\n",
    "\n",
    "if num == 1:\n",
    "    print(num, \"is not a prime number\")\n",
    "elif num > 1:\n",
    "    # check for factors\n",
    "    for i in range(2, num):\n",
    "        if (num % i) == 0:\n",
    "            # if factor is found, set flag to True\n",
    "            flag = True\n",
    "            # break out of loop\n",
    "            break\n",
    "\n",
    "    # check if flag is True\n",
    "    if flag:\n",
    "        print(num, \"is not a prime number\")\n",
    "    else:\n",
    "        print(num, \"is a prime number\")"
   ]
  },
  {
   "cell_type": "code",
   "execution_count": 24,
   "id": "1cce70d0-86d6-4fe2-b828-a9a30d5831dd",
   "metadata": {},
   "outputs": [
    {
     "name": "stdin",
     "output_type": "stream",
     "text": [
      "What is the product of 9 and 3?  27\n"
     ]
    },
    {
     "name": "stdout",
     "output_type": "stream",
     "text": [
      "Congratulations! Your answer is correct.\n"
     ]
    }
   ],
   "source": [
    "Product of Random Numbers\n",
    "import random\n",
    "\n",
    "def main():\n",
    "    # Generate two random numbers between 1 and 10\n",
    "    num1 = random.randint(1, 10)\n",
    "    num2 = random.randint(1, 10)\n",
    "\n",
    "    # Calculate the correct product\n",
    "    correct_product = num1 * num2\n",
    "\n",
    "    # Ask the user for their answer\n",
    "    user_input = input(f\"What is the product of {num1} and {num2}? \")\n",
    "\n",
    "    # Validate if the input is an integer\n",
    "    try:\n",
    "        user_answer = int(user_input)\n",
    "    except ValueError:\n",
    "        print(\"Please enter a valid number.\")\n",
    "        return\n",
    "\n",
    "    # Check if the user's answer is correct\n",
    "    if user_answer == correct_product:\n",
    "        print(\"Congratulations! Your answer is correct.\")\n",
    "    else:\n",
    "        print(f\"Sorry, that's not correct. The correct answer is {correct_product}.\")\n",
    "\n",
    "if __name__ == \"__main__\":\n",
    "    main()\n"
   ]
  },
  {
   "cell_type": "markdown",
   "id": "b8c551d5-0073-43b5-9810-52384337c019",
   "metadata": {},
   "source": []
  },
  {
   "cell_type": "code",
   "execution_count": 43,
   "id": "341b4db6-7e30-4782-bb26-91d188deac80",
   "metadata": {},
   "outputs": [
    {
     "name": "stdout",
     "output_type": "stream",
     "text": [
      "The square of 100 is 10000.\n",
      "The square of 102 is 10404.\n",
      "The square of 104 is 10816.\n",
      "The square of 106 is 11236.\n",
      "The square of 108 is 11664.\n",
      "The square of 110 is 12100.\n",
      "The square of 112 is 12544.\n",
      "The square of 114 is 12996.\n",
      "The square of 116 is 13456.\n",
      "The square of 118 is 13924.\n",
      "The square of 120 is 14400.\n",
      "The square of 122 is 14884.\n",
      "The square of 124 is 15376.\n",
      "The square of 126 is 15876.\n",
      "The square of 128 is 16384.\n",
      "The square of 130 is 16900.\n",
      "The square of 132 is 17424.\n",
      "The square of 134 is 17956.\n",
      "The square of 136 is 18496.\n",
      "The square of 138 is 19044.\n",
      "The square of 140 is 19600.\n",
      "The square of 142 is 20164.\n",
      "The square of 144 is 20736.\n",
      "The square of 146 is 21316.\n",
      "The square of 148 is 21904.\n",
      "The square of 150 is 22500.\n",
      "The square of 152 is 23104.\n",
      "The square of 154 is 23716.\n",
      "The square of 156 is 24336.\n",
      "The square of 158 is 24964.\n",
      "The square of 160 is 25600.\n",
      "The square of 162 is 26244.\n",
      "The square of 164 is 26896.\n",
      "The square of 166 is 27556.\n",
      "The square of 168 is 28224.\n",
      "The square of 170 is 28900.\n",
      "The square of 172 is 29584.\n",
      "The square of 174 is 30276.\n",
      "The square of 176 is 30976.\n",
      "The square of 178 is 31684.\n",
      "The square of 180 is 32400.\n",
      "The square of 182 is 33124.\n",
      "The square of 184 is 33856.\n",
      "The square of 186 is 34596.\n",
      "The square of 188 is 35344.\n",
      "The square of 190 is 36100.\n",
      "The square of 192 is 36864.\n",
      "The square of 194 is 37636.\n",
      "The square of 196 is 38416.\n",
      "The square of 198 is 39204.\n",
      "The square of 200 is 40000.\n"
     ]
    }
   ],
   "source": [
    "#Create a Python script that prints the squares of all even or odd numbers within the range of 100 to 200. Choose either even oodd\n",
    "#numbers and document your choice in the code.\n",
    "\n",
    "for num in range(100, 201):\n",
    "    # Check if the number is even\n",
    "    if num % 2 == 0:\n",
    "        # Calculate the square of the even number\n",
    "        square = num ** 2\n",
    "        # Print the result\n",
    "        print(f\"The square of {num} is {square}.\")\n"
   ]
  },
  {
   "cell_type": "code",
   "execution_count": 49,
   "id": "9b6a45f0-5afc-4004-982f-b678808bab04",
   "metadata": {},
   "outputs": [
    {
     "name": "stdout",
     "output_type": "stream",
     "text": [
      "'this': 2\n",
      "'is': 1\n",
      "'a': 1\n",
      "'sample': 1\n",
      "'text': 2\n",
      "'will': 1\n",
      "'be': 1\n",
      "'used': 1\n",
      "'to': 1\n",
      "'demonstrate': 1\n",
      "'the': 1\n",
      "'word': 1\n",
      "'counter': 1\n"
     ]
    }
   ],
   "source": [
    "#write a program to count the number of words in a given text.\n",
    "\n",
    "from collections import Counter\n",
    "import string\n",
    "\n",
    "def count_words(text):\n",
    "    # Remove punctuation from the text\n",
    "    translator = str.maketrans('', '', string.punctuation)\n",
    "    text = text.translate(translator)\n",
    "    \n",
    "    # Convert the text to lowercase to ensure case insensitivity\n",
    "    text = text.lower()\n",
    "    \n",
    "    # Split the text into words\n",
    "    words = text.split()\n",
    "    \n",
    "    # Count the occurrences of each word\n",
    "    word_count = Counter(words)\n",
    "    \n",
    "    # Print the result\n",
    "    for word, count in word_count.items():\n",
    "        print(f\"'{word}': {count}\")\n",
    "\n",
    "# Example usage\n",
    "input_text = \"This is a sample text. This text will be used to demonstrate the word counter.\"\n",
    "count_words(input_text)\n"
   ]
  },
  {
   "cell_type": "code",
   "execution_count": 53,
   "id": "980d88c7-617b-4ed1-849a-125fe43bca49",
   "metadata": {},
   "outputs": [
    {
     "name": "stdout",
     "output_type": "stream",
     "text": [
      "True\n"
     ]
    }
   ],
   "source": [
    "import string\n",
    "\n",
    "def is_palindrome(s):\n",
    "    # Define a translation table to remove punctuation\n",
    "    translation_table = str.maketrans('', '', string.punctuation + string.whitespace)\n",
    "    \n",
    "    # Normalize the string: remove punctuation and spaces, and convert to lowercase\n",
    "    normalized_string = s.translate(translation_table).lower()\n",
    "    \n",
    "    # Check if the normalized string is equal to its reverse\n",
    "    return normalized_string == normalized_string[::-1]\n",
    "\n",
    "# Example usage\n",
    "print(is_palindrome(\"racecar\"))  # Output: True\n",
    "\n"
   ]
  }
 ],
 "metadata": {
  "kernelspec": {
   "display_name": "Python 3 (ipykernel)",
   "language": "python",
   "name": "python3"
  },
  "language_info": {
   "codemirror_mode": {
    "name": "ipython",
    "version": 3
   },
   "file_extension": ".py",
   "mimetype": "text/x-python",
   "name": "python",
   "nbconvert_exporter": "python",
   "pygments_lexer": "ipython3",
   "version": "3.12.4"
  }
 },
 "nbformat": 4,
 "nbformat_minor": 5
}
