{
 "cells": [
  {
   "cell_type": "code",
   "execution_count": 48,
   "id": "6ca9b848-3bd3-48aa-b12f-8353682bd519",
   "metadata": {},
   "outputs": [],
   "source": [
    "#To investigate the restaurant owners' claim about the increase in weekly operating costs using hypothesis testing.\n",
    "\n",
    "import scipy.stats as stats"
   ]
  },
  {
   "cell_type": "code",
   "execution_count": 50,
   "id": "beacecd4-53ce-4a91-9f39-7ada97425fa3",
   "metadata": {},
   "outputs": [],
   "source": [
    "#Given data as per problem\n",
    "sample_mean=3050 #smaple mean weekly cost(RS.)\n",
    "theoretical_mean = 1000 + 5 * 600  # Theoretical mean weekly cost according to the model (Rs.)\n",
    "std_dev=5*25 #Standard deviation (Rs.)\n",
    "sample_size=25 #smaple_size\n",
    "alpha=0.05 #significant level\n",
    "\n",
    "\n"
   ]
  },
  {
   "cell_type": "code",
   "execution_count": 52,
   "id": "1b4b8275-956e-41cc-8ae7-03792b88c8b6",
   "metadata": {},
   "outputs": [],
   "source": [
    "# 1. Stating the Hypotheses statement:\n",
    "# Null Hypothesis (H0): The mean weekly operating cost is equal to the theoretical mean (H0: μ = μ0)\n",
    "# Alternative Hypothesis (H1): The mean weekly operating cost is higher than the theoretical mean (H1: μ > μ0)"
   ]
  },
  {
   "cell_type": "code",
   "execution_count": 54,
   "id": "7c40d1d7-335e-47b4-84ff-d95d68c160fe",
   "metadata": {},
   "outputs": [],
   "source": [
    "# 2. Calculating the Test Statistic (t-score):\n",
    "t_score = (sample_mean - theoretical_mean) / (std_dev / (sample_size ** 0.5))\n"
   ]
  },
  {
   "cell_type": "code",
   "execution_count": 56,
   "id": "dadc664a-3232-4e07-9162-4fabeb23d954",
   "metadata": {},
   "outputs": [],
   "source": [
    "# 3. Determining the Critical Value:\n",
    "# Degrees of freedom for a one-sample t-test is (n - 1)\n",
    "degrees_of_freedom = sample_size - 1\n"
   ]
  },
  {
   "cell_type": "code",
   "execution_count": 58,
   "id": "f036fab1-2f0f-41cd-8389-682bb0dff3c0",
   "metadata": {},
   "outputs": [],
   "source": [
    "# Finding the critical value from the t-distribution\n",
    "critical_value = stats.t.ppf(1 - alpha, degrees_of_freedom)\n"
   ]
  },
  {
   "cell_type": "code",
   "execution_count": 62,
   "id": "f51da22c-f436-46a1-83c6-8aac49fa1e9f",
   "metadata": {},
   "outputs": [],
   "source": [
    "# 4. Make a Decision:\n",
    "# If the test statistic is greater than the critical value, reject the null hypothesis\n",
    "# Otherwise, fail to reject the null hypothesis\n",
    "if t_score > critical_value:\n",
    "    decision = \"Reject the null hypothesis\"\n",
    "else:\n",
    "    decision = \"Fail to reject the null hypothesis\""
   ]
  },
  {
   "cell_type": "code",
   "execution_count": 68,
   "id": "d28c3be8-4116-414d-ac42-bd53ea6ffc71",
   "metadata": {},
   "outputs": [],
   "source": [
    "# 5. Conclusion:\n",
    "# If we reject the null hypothesis, we have evidence to support the claim that the weekly operating costs are higher than the model suggests.\n",
    "# If we fail to reject the null hypothesis, there is not enough evidence to support the claim.\n",
    "if t_score > critical_value:\n",
    "    conclusion = \"There is strong evidence to support the restaurant owners' claim that the weekly operating costs are higher than the model suggests.\"\n",
    "else:\n",
    "    conclusion = \"There is not enough evidence to support the restaurant owners' claim that the weekly operating costs are higher than the model suggests.\""
   ]
  },
  {
   "cell_type": "code",
   "execution_count": 70,
   "id": "a436f0f4-1946-440b-b6ed-50c70453a780",
   "metadata": {},
   "outputs": [
    {
     "name": "stdout",
     "output_type": "stream",
     "text": [
      "Test Statistic (t-score): -38.0\n",
      "Critical Value: 1.71088\n",
      "Decision: Fail to reject the null hypothesis\n",
      "Conclusion: There is not enough evidence to support the restaurant owners' claim that the weekly operating costs are higher than the model suggests.\n"
     ]
    }
   ],
   "source": [
    "# Output the results\n",
    "print(\"Test Statistic (t-score):\", t_score)\n",
    "print(\"Critical Value:\", critical_value.round(5))\n",
    "print(\"Decision:\", decision)\n",
    "print(\"Conclusion:\", conclusion)"
   ]
  }
 ],
 "metadata": {
  "kernelspec": {
   "display_name": "Python 3 (ipykernel)",
   "language": "python",
   "name": "python3"
  },
  "language_info": {
   "codemirror_mode": {
    "name": "ipython",
    "version": 3
   },
   "file_extension": ".py",
   "mimetype": "text/x-python",
   "name": "python",
   "nbconvert_exporter": "python",
   "pygments_lexer": "ipython3",
   "version": "3.12.4"
  }
 },
 "nbformat": 4,
 "nbformat_minor": 5
}
